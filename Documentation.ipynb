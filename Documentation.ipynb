{
 "cells": [
  {
   "attachments": {},
   "cell_type": "markdown",
   "metadata": {},
   "source": [
    "# Assessment Task 3\n",
    "*Terence Wu*\n",
    "\n",
    "---\n",
    "\n",
    "### Thesis:\n",
    "# ***\"\"***"
   ]
  },
  {
   "attachments": {},
   "cell_type": "markdown",
   "metadata": {},
   "source": [
    "### Mind map:\n",
    "My data can be taken from:\n",
    "- Asking students and staff\n",
    "- Using online sources\n",
    " - Kaggle (https://www.kaggle.com/) \n"
   ]
  },
  {
   "attachments": {},
   "cell_type": "markdown",
   "metadata": {},
   "source": [
    "### Functional requirements:\n",
    "- Has a user interface\n",
    "- Shows a big beautiful graph that can be changed according to settings\n",
    "- Has a conclusion from the data\n",
    "### Non-functional requirements:\n",
    "- Can easily be used by someone who can type literally anything into a terminal and use file explorer"
   ]
  }
 ],
 "metadata": {
  "kernelspec": {
   "display_name": "Python 3",
   "language": "python",
   "name": "python3"
  },
  "language_info": {
   "codemirror_mode": {
    "name": "ipython",
    "version": 3
   },
   "file_extension": ".py",
   "mimetype": "text/x-python",
   "name": "python",
   "nbconvert_exporter": "python",
   "pygments_lexer": "ipython3",
   "version": "3.12.8"
  },
  "orig_nbformat": 4
 },
 "nbformat": 4,
 "nbformat_minor": 2
}
