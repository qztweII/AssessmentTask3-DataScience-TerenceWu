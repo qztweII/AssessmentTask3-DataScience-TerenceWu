{
 "cells": [
  {
   "attachments": {},
   "cell_type": "markdown",
   "metadata": {},
   "source": [
    "# Assessment Task 3\n",
    "*Terence Wu*\n",
    "\n",
    "---\n",
    "\n",
    "### Thesis:\n",
    "# ***\"How do Big Mac prices fluctuate based on a country's GDP?\"***"
   ]
  },
  {
   "attachments": {},
   "cell_type": "markdown",
   "metadata": {},
   "source": [
    "## My hypothesis:\n",
    "The Big Mac prices would fluctuate according to the country's GDP, however, some other factors like exchange rate can make the equivalent price more expensive or cheaper, thus not proportional to GDP. "
   ]
  },
  {
   "attachments": {},
   "cell_type": "markdown",
   "metadata": {},
   "source": [
    "### Mind map:\n"
   ]
  },
  {
   "attachments": {},
   "cell_type": "markdown",
   "metadata": {},
   "source": [
    "*Refer to mind_map.png*"
   ]
  },
  {
   "attachments": {},
   "cell_type": "markdown",
   "metadata": {},
   "source": [
    "### Functional requirements:\n",
    "- Has a user interface\n",
    "- Shows a big beautiful graph that can be changed according to settings\n",
    "- Has a conclusion from the data\n",
    "### Non-functional requirements:\n",
    "- Can easily be used by someone who can type into a terminal and use file explorer. "
   ]
  },
  {
   "attachments": {},
   "cell_type": "markdown",
   "metadata": {},
   "source": [
    "# The list:\n",
    "\n",
    "1. Define the problem\n",
    "2. Write a hypothesis for the data\n",
    "3. Code the graphing program\n",
    "4. Give it a pretty UI\n",
    "5. Write a conclusion for the information\n",
    "6. Evaluate the project\n",
    "\n",
    "## Make sure to:\n",
    "Take care when labelling commits"
   ]
  },
  {
   "cell_type": "markdown",
   "metadata": {},
   "source": [
    "# Pictures, in order of creation:\n",
    "1. TEST!!!.png\n",
    "2. Graph - first thing.png\n",
    "3. chaoticGraphOfDeath (2).png\n",
    "4. chaoticGraphOfDeath (savefig finally works).png\n",
    "5. chaoticGraphOfDeath.png \n",
    "> *Note that this was the original chaoticGraphOfDeath, but was accidentally overwritten after the savefig finally works version*\n",
    "6. Less chaotic graph.png\n",
    "7. My axes are now correct!!!.png\n",
    "8. 2025 only.png\n",
    "9. I may or may not have broken the program.png\n",
    "10. Please this work please this work please this work.png\n",
    "11. Not even the AI could figure this out.png\n",
    "12. JUST BE NORMAL.png\n",
    "13. I think the end is near.png\n",
    "14. I think I'm getting there.png\n",
    "15. FINAL_2025.png\n",
    "16. FINAL_2015.png\n",
    "17. FInal 2000.png\n",
    "\n",
    "...\n",
    "\n",
    "Then it's your pictures"
   ]
  },
  {
   "attachments": {},
   "cell_type": "markdown",
   "metadata": {},
   "source": [
    "Refer to: https://gosford-high-school.gitbook.io/9-computing-tech/unit-2-data-science/5-task-guide/task-3/setting-up-git-repository"
   ]
  },
  {
   "cell_type": "markdown",
   "metadata": {},
   "source": [
    "# Conclusion\n"
   ]
  }
 ],
 "metadata": {
  "kernelspec": {
   "display_name": "Python 3",
   "language": "python",
   "name": "python3"
  },
  "language_info": {
   "codemirror_mode": {
    "name": "ipython",
    "version": 3
   },
   "file_extension": ".py",
   "mimetype": "text/x-python",
   "name": "python",
   "nbconvert_exporter": "python",
   "pygments_lexer": "ipython3",
   "version": "3.12.8"
  },
  "orig_nbformat": 4
 },
 "nbformat": 4,
 "nbformat_minor": 2
}
