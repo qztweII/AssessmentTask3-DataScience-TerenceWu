{
 "cells": [
  {
   "attachments": {},
   "cell_type": "markdown",
   "metadata": {},
   "source": [
    "# Assessment Task 3\n",
    "*Terence Wu*\n",
    "\n",
    "---\n",
    "\n",
    "### Thesis:\n",
    "# ***\"How do Big Mac prices fluctuate based on a country's GDP?\"***"
   ]
  },
  {
   "cell_type": "markdown",
   "metadata": {},
   "source": [
    "## My hypothesis:\n",
    "The Big Mac prices would fluctuate according to the country's GDP, however, some other factors like exchange rate can make the equivalent price more expensive or cheaper, thus not proportional to GDP. "
   ]
  },
  {
   "attachments": {},
   "cell_type": "markdown",
   "metadata": {},
   "source": [
    "### Mind map:\n"
   ]
  },
  {
   "cell_type": "markdown",
   "metadata": {},
   "source": [
    "*Refer to mind_map.png*"
   ]
  },
  {
   "attachments": {},
   "cell_type": "markdown",
   "metadata": {},
   "source": [
    "### Functional requirements:\n",
    "- Has a user interface\n",
    "- Shows a big beautiful graph that can be changed according to settings\n",
    "- Has a conclusion from the data\n",
    "### Non-functional requirements:\n",
    "- Can easily be used by someone who can type into a terminal and use file explorer. "
   ]
  }
 ],
 "metadata": {
  "kernelspec": {
   "display_name": "Python 3",
   "language": "python",
   "name": "python3"
  },
  "language_info": {
   "codemirror_mode": {
    "name": "ipython",
    "version": 3
   },
   "file_extension": ".py",
   "mimetype": "text/x-python",
   "name": "python",
   "nbconvert_exporter": "python",
   "pygments_lexer": "ipython3",
   "version": "3.12.8"
  },
  "orig_nbformat": 4
 },
 "nbformat": 4,
 "nbformat_minor": 2
}
